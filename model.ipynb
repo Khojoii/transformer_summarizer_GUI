{
 "cells": [
  {
   "cell_type": "markdown",
   "id": "de333dfe-8052-4338-ba39-d8c37ad698b6",
   "metadata": {},
   "source": [
    "# Download and install \"transformers\""
   ]
  },
  {
   "cell_type": "code",
   "execution_count": null,
   "id": "898f820d-90e7-4d41-a630-00a465854cb3",
   "metadata": {},
   "outputs": [],
   "source": [
    "!pip install transformers"
   ]
  },
  {
   "cell_type": "code",
   "execution_count": 6,
   "id": "96e42a9f-b599-4fb4-8c6d-18540ed32760",
   "metadata": {},
   "outputs": [],
   "source": [
    "from transformers import pipeline"
   ]
  },
  {
   "cell_type": "code",
   "execution_count": 12,
   "id": "3acbad91-5194-4345-a39e-5a3199eecdf1",
   "metadata": {},
   "outputs": [],
   "source": [
    "import pickle # for saving the model"
   ]
  },
  {
   "cell_type": "markdown",
   "id": "ed8245df-b49f-4564-81d6-2ba5dd095283",
   "metadata": {},
   "source": [
    "# Load Summarization"
   ]
  },
  {
   "cell_type": "code",
   "execution_count": 7,
   "id": "ff24803f-e6b4-4c4c-b249-042f7d4a9a8a",
   "metadata": {
    "scrolled": true
   },
   "outputs": [
    {
     "name": "stderr",
     "output_type": "stream",
     "text": [
      "No model was supplied, defaulted to google-t5/t5-small and revision df1b051 (https://huggingface.co/google-t5/t5-small).\n",
      "Using a pipeline without specifying a model name and revision in production is not recommended.\n",
      "All PyTorch model weights were used when initializing TFT5ForConditionalGeneration.\n",
      "\n",
      "All the weights of TFT5ForConditionalGeneration were initialized from the PyTorch model.\n",
      "If your task is similar to the task the model of the checkpoint was trained on, you can already use TFT5ForConditionalGeneration for predictions without further training.\n",
      "Device set to use 0\n"
     ]
    }
   ],
   "source": [
    "summarizer = pipeline(\"summarization\") "
   ]
  },
  {
   "cell_type": "markdown",
   "id": "8b9ce1ad-6283-48b4-a907-83c022723659",
   "metadata": {},
   "source": [
    "# Summarizing"
   ]
  },
  {
   "cell_type": "code",
   "execution_count": 5,
   "id": "2a9954e4-5ac9-4552-b91a-00c19cbac479",
   "metadata": {},
   "outputs": [
    {
     "data": {
      "text/plain": [
       "[{'summary_text': 'ancient Iran was home to powerful empires like the Elamites, Achaemenids, Parthians, and Sassanids . the empire was founded by Cyrus the Great in the 6th century BCE . over the centuries, Iran experienced various dynasties, including the Safavids in the 16th century .'}]"
      ]
     },
     "execution_count": 5,
     "metadata": {},
     "output_type": "execute_result"
    }
   ],
   "source": [
    "with open(\"summarizer.pkl\", \"wb\") as f:\n",
    "    pickle.dump(summarizer, f)\n",
    "    print(\"Model saved!\")"
   ]
  },
  {
   "cell_type": "markdown",
   "id": "cbd06876-b647-4260-bf15-242d602d833b",
   "metadata": {},
   "source": [
    "# GIU"
   ]
  },
  {
   "cell_type": "code",
   "execution_count": 8,
   "id": "b161fda1-8c8f-4605-a547-4965ba090282",
   "metadata": {},
   "outputs": [],
   "source": [
    "import streamlit as st"
   ]
  }
 ],
 "metadata": {
  "kernelspec": {
   "display_name": "Python 3 (ipykernel)",
   "language": "python",
   "name": "python3"
  },
  "language_info": {
   "codemirror_mode": {
    "name": "ipython",
    "version": 3
   },
   "file_extension": ".py",
   "mimetype": "text/x-python",
   "name": "python",
   "nbconvert_exporter": "python",
   "pygments_lexer": "ipython3",
   "version": "3.12.8"
  }
 },
 "nbformat": 4,
 "nbformat_minor": 5
}
