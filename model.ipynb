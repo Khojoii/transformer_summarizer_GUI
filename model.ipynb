{
 "cells": [
  {
   "cell_type": "markdown",
   "id": "de333dfe-8052-4338-ba39-d8c37ad698b6",
   "metadata": {},
   "source": [
    "# Download and install \"transformers\""
   ]
  },
  {
   "cell_type": "code",
   "execution_count": null,
   "id": "898f820d-90e7-4d41-a630-00a465854cb3",
   "metadata": {},
   "outputs": [],
   "source": [
    "!pip install transformers"
   ]
  },
  {
   "cell_type": "code",
   "execution_count": 1,
   "id": "96e42a9f-b599-4fb4-8c6d-18540ed32760",
   "metadata": {},
   "outputs": [],
   "source": [
    "from transformers import pipeline"
   ]
  },
  {
   "cell_type": "markdown",
   "id": "ed8245df-b49f-4564-81d6-2ba5dd095283",
   "metadata": {},
   "source": [
    "# Load Summarization"
   ]
  },
  {
   "cell_type": "code",
   "execution_count": 2,
   "id": "ff24803f-e6b4-4c4c-b249-042f7d4a9a8a",
   "metadata": {
    "scrolled": true
   },
   "outputs": [
    {
     "name": "stderr",
     "output_type": "stream",
     "text": [
      "No model was supplied, defaulted to google-t5/t5-small and revision df1b051 (https://huggingface.co/google-t5/t5-small).\n",
      "Using a pipeline without specifying a model name and revision in production is not recommended.\n"
     ]
    },
    {
     "name": "stdout",
     "output_type": "stream",
     "text": [
      "WARNING:tensorflow:From C:\\Users\\MMADHOSIND\\miniconda3\\envs\\myenv\\Lib\\site-packages\\tf_keras\\src\\losses.py:2976: The name tf.losses.sparse_softmax_cross_entropy is deprecated. Please use tf.compat.v1.losses.sparse_softmax_cross_entropy instead.\n",
      "\n",
      "WARNING:tensorflow:From C:\\Users\\MMADHOSIND\\miniconda3\\envs\\myenv\\Lib\\site-packages\\tf_keras\\src\\backend.py:873: The name tf.get_default_graph is deprecated. Please use tf.compat.v1.get_default_graph instead.\n",
      "\n"
     ]
    },
    {
     "name": "stderr",
     "output_type": "stream",
     "text": [
      "All PyTorch model weights were used when initializing TFT5ForConditionalGeneration.\n",
      "\n",
      "All the weights of TFT5ForConditionalGeneration were initialized from the PyTorch model.\n",
      "If your task is similar to the task the model of the checkpoint was trained on, you can already use TFT5ForConditionalGeneration for predictions without further training.\n",
      "Device set to use 0\n"
     ]
    }
   ],
   "source": [
    "summarizer = pipeline(\"summarization\") "
   ]
  },
  {
   "cell_type": "markdown",
   "id": "9054e1bb-5f71-4334-9f45-1190db9ff0b2",
   "metadata": {},
   "source": [
    "# saving the model"
   ]
  },
  {
   "cell_type": "code",
   "execution_count": null,
   "id": "506649bb-45d7-496a-806c-c9c09f67d0af",
   "metadata": {},
   "outputs": [],
   "source": [
    "summarizer.save_pretrained(\"./saved_model\") # this line will save the model in \"saved_model\" folder in current directory"
   ]
  }
 ],
 "metadata": {
  "kernelspec": {
   "display_name": "Python 3 (ipykernel)",
   "language": "python",
   "name": "python3"
  },
  "language_info": {
   "codemirror_mode": {
    "name": "ipython",
    "version": 3
   },
   "file_extension": ".py",
   "mimetype": "text/x-python",
   "name": "python",
   "nbconvert_exporter": "python",
   "pygments_lexer": "ipython3",
   "version": "3.12.8"
  }
 },
 "nbformat": 4,
 "nbformat_minor": 5
}
